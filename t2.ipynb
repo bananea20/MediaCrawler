{
 "cells": [
  {
   "cell_type": "code",
   "execution_count": 2,
   "metadata": {},
   "outputs": [],
   "source": [
    "import os\n",
    "import tarfile\n",
    "\n",
    "def extract_tar_gz_in_directory(directory_path):\n",
    "    # 遍历指定文件夹中的每一个文件\n",
    "    for root, dirs, files in os.walk(directory_path):\n",
    "        for file in files:\n",
    "            # 检查文件是否是 .tar.gz 扩展名\n",
    "            if file.endswith('.tar.gz'):\n",
    "                full_file_path = os.path.join(root, file)\n",
    "                \n",
    "                # 去掉扩展名，得到子文件夹的名字\n",
    "                folder_name = os.path.splitext(os.path.splitext(file)[0])[0]\n",
    "                target_folder = os.path.join(root, folder_name)\n",
    "                \n",
    "                # 如果子文件夹不存在，创建它\n",
    "                if not os.path.exists(target_folder):\n",
    "                    os.makedirs(target_folder)\n",
    "                \n",
    "                # 打开和解压 .tar.gz 文件\n",
    "                with tarfile.open(full_file_path, 'r:gz') as tar:\n",
    "                    tar.extractall(path=target_folder)"
   ]
  },
  {
   "cell_type": "code",
   "execution_count": 3,
   "metadata": {},
   "outputs": [],
   "source": [
    "directory_path = r\"D:\\data\\1025-深圳湾万象湾视频\"\n",
    "extract_tar_gz_in_directory(directory_path)"
   ]
  }
 ],
 "metadata": {
  "kernelspec": {
   "display_name": "paddleocr",
   "language": "python",
   "name": "python3"
  },
  "language_info": {
   "codemirror_mode": {
    "name": "ipython",
    "version": 3
   },
   "file_extension": ".py",
   "mimetype": "text/x-python",
   "name": "python",
   "nbconvert_exporter": "python",
   "pygments_lexer": "ipython3",
   "version": "3.9.16"
  }
 },
 "nbformat": 4,
 "nbformat_minor": 2
}
